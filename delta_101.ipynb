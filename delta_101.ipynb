{
 "cells": [
  {
   "cell_type": "code",
   "execution_count": null,
   "id": "6d018c04",
   "metadata": {},
   "outputs": [],
   "source": [
    "from pyspark.sql.session import SparkSession\n",
    "maven_coords = [\n",
    "    \"org.apache.spark:spark-avro_2.12:3.2.1\",\n",
    "    \"io.delta:delta-core_2.12:2.3.0\"\n",
    "]\n",
    "spark = (SparkSession.builder.appName(\"MyDelta_App\")\n",
    "    .config(\"spark.jars.packages\", \",\".join(maven_coords))  \n",
    "    .config(\"spark.sql.extensions\", \"io.delta.sql.DeltaSparkSessionExtension\")\n",
    "    .config(\"spark.sql.catalog.spark_catalog\", \"org.apache.spark.sql.delta.catalog.DeltaCatalog\")\n",
    "    .config(\"spark.executor.memory\", \"512m\")\n",
    "    .config(\"spark.driver.memory\", \"1g\")\n",
    "    .config('spark.ui.port', '4040')\n",
    "    .getOrCreate()\n",
    "    )\n",
    "spark"
   ]
  },
  {
   "cell_type": "code",
   "execution_count": null,
   "id": "4fdd8d17",
   "metadata": {},
   "outputs": [],
   "source": [
    "from pyspark.sql.types import *\n",
    "from datetime import datetime\n",
    "\n",
    "schema = StructType(\n",
    "          [StructField(\"name\", StringType(), False),\n",
    "           StructField(\"dob\", DateType(), False)])\n",
    "\n",
    "df = spark.createDataFrame([[\"ash\", datetime.strptime(\"2020-01-01\", \"%Y-%m-%d\")]], schema = schema)\n",
    "\n",
    "df.write.mode(\"overwrite\").format(\"delta\").saveAsTable(\"delta_table\")"
   ]
  },
  {
   "cell_type": "code",
   "execution_count": null,
   "id": "50deed0f",
   "metadata": {},
   "outputs": [],
   "source": [
    "spark.sql(\"select * from delta_table\").show()"
   ]
  },
  {
   "cell_type": "code",
   "execution_count": null,
   "id": "9475764b",
   "metadata": {},
   "outputs": [],
   "source": [
    "import delta"
   ]
  },
  {
   "cell_type": "code",
   "execution_count": null,
   "id": "c646a5ba",
   "metadata": {},
   "outputs": [],
   "source": [
    "from delta.tables import *\n",
    "\n",
    "schema = StructType(\n",
    "          [StructField(\"new_name\", StringType(), False),\n",
    "           StructField(\"new_dob\", DateType(), False)\n",
    "          ]\n",
    "        )\n",
    "new_df = spark.createDataFrame([[\"ash\", datetime.strptime(\"2025-01-01\", \"%Y-%m-%d\")]], schema = schema)\n",
    "\n",
    "print(\"Original dataframe...\")\n",
    "spark.sql(\"select * from delta_table\").show()\n",
    "\n",
    "delta_table_ref = DeltaTable.forName(spark, \"delta_table\")\n",
    "delta_table_ref.merge(new_df, \"name=new_name\") \\\n",
    "  .whenMatchedUpdate(set =\n",
    "    {\n",
    "      \"dob\": \"new_dob\"\n",
    "    }\n",
    "    ) \\\n",
    "  .execute()\n",
    "\n",
    "print(\"after merge...\")\n",
    "spark.sql(\"select * from delta_table\").show()"
   ]
  },
  {
   "cell_type": "code",
   "execution_count": null,
   "id": "c080c689",
   "metadata": {},
   "outputs": [],
   "source": [
    "schema = StructType(\n",
    "          [StructField(\"name\", StringType(), False),\n",
    "           StructField(\"dob\", DateType(), False)\n",
    "          ]        )\n",
    "df = spark.createDataFrame([[\"ash\", datetime.strptime(\"2010-01-01\", \"%Y-%m-%d\")]], schema = schema)\n",
    "\n",
    "new_df = spark.createDataFrame([[\"ash\", datetime.strptime(\"2026-01-01\", \"%Y-%m-%d\")],\n",
    "                                [\"mat\", datetime.strptime(\"9926-01-01\", \"%Y-%m-%d\")]], schema = schema)\n",
    "\n",
    "df.write.mode(\"overwrite\").format(\"delta\").saveAsTable(\"my_delta\")\n",
    "new_df.write.mode(\"overwrite\").format(\"delta\").saveAsTable(\"updates_to_delta\")\n",
    "\n",
    "print(\"Original dataframe...\")\n",
    "spark.sql(\"select * from my_delta\").show()\n",
    "\n",
    "spark.sql(\"\"\"Merge into my_delta\n",
    "              using updates_to_delta\n",
    "              on my_delta.name = updates_to_delta.name\n",
    "              when matched then\n",
    "                update set\n",
    "                  dob = updates_to_delta.dob\n",
    "              when not matched then\n",
    "                insert (name, dob)  values (updates_to_delta.name, updates_to_delta.dob)\n",
    "\n",
    "            \"\"\")\n",
    "print(\"after merging using sql api ...\")\n",
    "spark.sql(\"select * from my_delta\").show()"
   ]
  }
 ],
 "metadata": {
  "kernelspec": {
   "display_name": "Python 3 (ipykernel)",
   "language": "python",
   "name": "python3"
  },
  "language_info": {
   "codemirror_mode": {
    "name": "ipython",
    "version": 3
   },
   "file_extension": ".py",
   "mimetype": "text/x-python",
   "name": "python",
   "nbconvert_exporter": "python",
   "pygments_lexer": "ipython3",
   "version": "3.9.2"
  }
 },
 "nbformat": 4,
 "nbformat_minor": 5
}

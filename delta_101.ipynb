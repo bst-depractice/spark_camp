{
 "cells": [
  {
   "cell_type": "code",
   "execution_count": 1,
   "id": "b389b195",
   "metadata": {},
   "outputs": [
    {
     "name": "stderr",
     "output_type": "stream",
     "text": [
      "/usr/local/lib/python3.9/dist-packages/pyspark/bin/load-spark-env.sh: line 68: ps: command not found\n"
     ]
    },
    {
     "name": "stdout",
     "output_type": "stream",
     "text": [
      ":: loading settings :: url = jar:file:/usr/local/lib/python3.9/dist-packages/pyspark/jars/ivy-2.5.1.jar!/org/apache/ivy/core/settings/ivysettings.xml\n"
     ]
    },
    {
     "name": "stderr",
     "output_type": "stream",
     "text": [
      "Ivy Default Cache set to: /root/.ivy2/cache\n",
      "The jars for the packages stored in: /root/.ivy2/jars\n",
      "org.apache.spark#spark-avro_2.12 added as a dependency\n",
      "io.delta#delta-core_2.12 added as a dependency\n",
      ":: resolving dependencies :: org.apache.spark#spark-submit-parent-8fb219ff-8ea2-4db5-ac6d-339038b5396d;1.0\n",
      "\tconfs: [default]\n",
      "\tfound org.apache.spark#spark-avro_2.12;3.2.1 in central\n",
      "\tfound org.tukaani#xz;1.8 in central\n",
      "\tfound org.spark-project.spark#unused;1.0.0 in central\n",
      "\tfound io.delta#delta-core_2.12;2.3.0 in central\n",
      "\tfound io.delta#delta-storage;2.3.0 in central\n",
      "\tfound org.antlr#antlr4-runtime;4.8 in central\n",
      ":: resolution report :: resolve 228ms :: artifacts dl 9ms\n",
      "\t:: modules in use:\n",
      "\tio.delta#delta-core_2.12;2.3.0 from central in [default]\n",
      "\tio.delta#delta-storage;2.3.0 from central in [default]\n",
      "\torg.antlr#antlr4-runtime;4.8 from central in [default]\n",
      "\torg.apache.spark#spark-avro_2.12;3.2.1 from central in [default]\n",
      "\torg.spark-project.spark#unused;1.0.0 from central in [default]\n",
      "\torg.tukaani#xz;1.8 from central in [default]\n",
      "\t---------------------------------------------------------------------\n",
      "\t|                  |            modules            ||   artifacts   |\n",
      "\t|       conf       | number| search|dwnlded|evicted|| number|dwnlded|\n",
      "\t---------------------------------------------------------------------\n",
      "\t|      default     |   6   |   0   |   0   |   0   ||   6   |   0   |\n",
      "\t---------------------------------------------------------------------\n",
      ":: retrieving :: org.apache.spark#spark-submit-parent-8fb219ff-8ea2-4db5-ac6d-339038b5396d\n",
      "\tconfs: [default]\n",
      "\t0 artifacts copied, 6 already retrieved (0kB/7ms)\n"
     ]
    },
    {
     "name": "stdout",
     "output_type": "stream",
     "text": [
      "24/07/16 23:41:17 WARN NativeCodeLoader: Unable to load native-hadoop library for your platform... using builtin-java classes where applicable\n"
     ]
    },
    {
     "name": "stderr",
     "output_type": "stream",
     "text": [
      "Setting default log level to \"WARN\".\n",
      "To adjust logging level use sc.setLogLevel(newLevel). For SparkR, use setLogLevel(newLevel).\n"
     ]
    },
    {
     "data": {
      "text/html": [
       "\n",
       "            <div>\n",
       "                <p><b>SparkSession - in-memory</b></p>\n",
       "                \n",
       "        <div>\n",
       "            <p><b>SparkContext</b></p>\n",
       "\n",
       "            <p><a href=\"http://83e5062084b6:4040\">Spark UI</a></p>\n",
       "\n",
       "            <dl>\n",
       "              <dt>Version</dt>\n",
       "                <dd><code>v3.3.2</code></dd>\n",
       "              <dt>Master</dt>\n",
       "                <dd><code>local[*]</code></dd>\n",
       "              <dt>AppName</dt>\n",
       "                <dd><code>MyDelta_App</code></dd>\n",
       "            </dl>\n",
       "        </div>\n",
       "        \n",
       "            </div>\n",
       "        "
      ],
      "text/plain": [
       "<pyspark.sql.session.SparkSession at 0x7f466957b520>"
      ]
     },
     "execution_count": 1,
     "metadata": {},
     "output_type": "execute_result"
    }
   ],
   "source": [
    "from pyspark.sql.session import SparkSession\n",
    "maven_coords = [\n",
    "    \"org.apache.spark:spark-avro_2.12:3.2.1\",\n",
    "    \"io.delta:delta-core_2.12:2.3.0\"\n",
    "]\n",
    "spark = (SparkSession.builder.appName(\"MyDelta_App\")\n",
    "    .config(\"spark.jars.packages\", \",\".join(maven_coords))  \n",
    "    .config(\"spark.sql.extensions\", \"io.delta.sql.DeltaSparkSessionExtension\")\n",
    "    .config(\"spark.sql.catalog.spark_catalog\", \"org.apache.spark.sql.delta.catalog.DeltaCatalog\")\n",
    "    .config(\"spark.executor.memory\", \"512m\")\n",
    "    .config(\"spark.driver.memory\", \"1g\")\n",
    "    .config('spark.ui.port', '4040')\n",
    "    .getOrCreate()\n",
    "    )\n",
    "spark"
   ]
  },
  {
   "cell_type": "code",
   "execution_count": null,
   "id": "81b3c27f",
   "metadata": {},
   "outputs": [],
   "source": [
    "from pyspark.sql.types import *\n",
    "from datetime import datetime\n",
    "\n",
    "schema = StructType(\n",
    "          [StructField(\"name\", StringType(), False),\n",
    "           StructField(\"dob\", DateType(), False)])\n",
    "\n",
    "df = spark.createDataFrame([[\"ash\", datetime.strptime(\"2020-01-01\", \"%Y-%m-%d\")]], schema = schema)\n",
    "\n",
    "df.write.mode(\"overwrite\").format(\"delta\").saveAsTable(\"delta_table\")"
   ]
  },
  {
   "cell_type": "code",
   "execution_count": null,
   "id": "37780da8",
   "metadata": {},
   "outputs": [],
   "source": [
    "spark.sql(\"select * from delta_table\").show()"
   ]
  },
  {
   "cell_type": "code",
   "execution_count": 5,
   "id": "c0224125",
   "metadata": {},
   "outputs": [],
   "source": [
    "import delta"
   ]
  },
  {
   "cell_type": "code",
   "execution_count": 10,
   "id": "a0fa2631",
   "metadata": {},
   "outputs": [
    {
     "name": "stdout",
     "output_type": "stream",
     "text": [
      "Original dataframe...\n",
      "+----+----------+\n",
      "|name|       dob|\n",
      "+----+----------+\n",
      "| ash|2025-01-01|\n",
      "+----+----------+\n",
      "\n",
      "after merge...\n",
      "+----+----------+\n",
      "|name|       dob|\n",
      "+----+----------+\n",
      "| ash|2025-01-01|\n",
      "+----+----------+\n",
      "\n"
     ]
    }
   ],
   "source": [
    "from delta.tables import *\n",
    "\n",
    "schema = StructType(\n",
    "          [StructField(\"new_name\", StringType(), False),\n",
    "           StructField(\"new_dob\", DateType(), False)\n",
    "          ]\n",
    "        )\n",
    "new_df = spark.createDataFrame([[\"ash\", datetime.strptime(\"2025-01-01\", \"%Y-%m-%d\")]], schema = schema)\n",
    "\n",
    "print(\"Original dataframe...\")\n",
    "spark.sql(\"select * from delta_table\").show()\n",
    "\n",
    "delta_table_ref = DeltaTable.forName(spark, \"delta_table\")\n",
    "delta_table_ref.merge(new_df, \"name=new_name\") \\\n",
    "  .whenMatchedUpdate(set =\n",
    "    {\n",
    "      \"dob\": \"new_dob\"\n",
    "    }\n",
    "    ) \\\n",
    "  .execute()\n",
    "\n",
    "print(\"after merge...\")\n",
    "spark.sql(\"select * from delta_table\").show()"
   ]
  },
  {
   "cell_type": "code",
   "execution_count": null,
   "id": "9760c083",
   "metadata": {},
   "outputs": [],
   "source": [
    "schema = StructType(\n",
    "          [StructField(\"name\", StringType(), False),\n",
    "           StructField(\"dob\", DateType(), False)\n",
    "          ]        )\n",
    "df = spark.createDataFrame([[\"ash\", datetime.strptime(\"2010-01-01\", \"%Y-%m-%d\")]], schema = schema)\n",
    "\n",
    "new_df = spark.createDataFrame([[\"ash\", datetime.strptime(\"2026-01-01\", \"%Y-%m-%d\")],\n",
    "                                [\"mat\", datetime.strptime(\"9926-01-01\", \"%Y-%m-%d\")]], schema = schema)\n",
    "\n",
    "df.write.mode(\"overwrite\").format(\"delta\").saveAsTable(\"my_delta\")\n",
    "new_df.write.mode(\"overwrite\").format(\"delta\").saveAsTable(\"updates_to_delta\")\n",
    "\n",
    "print(\"Original dataframe...\")\n",
    "spark.sql(\"select * from my_delta\").show()\n",
    "\n",
    "spark.sql(\"\"\"Merge into my_delta\n",
    "              using updates_to_delta\n",
    "              on my_delta.name = updates_to_delta.name\n",
    "              when matched then\n",
    "                update set\n",
    "                  dob = updates_to_delta.dob\n",
    "              when not matched then\n",
    "                insert (name, dob)  values (updates_to_delta.name, updates_to_delta.dob)\n",
    "\n",
    "            \"\"\")\n",
    "print(\"after merging using sql api ...\")\n",
    "spark.sql(\"select * from my_delta\").show()"
   ]
  }
 ],
 "metadata": {
  "kernelspec": {
   "display_name": "Python 3 (ipykernel)",
   "language": "python",
   "name": "python3"
  },
  "language_info": {
   "codemirror_mode": {
    "name": "ipython",
    "version": 3
   },
   "file_extension": ".py",
   "mimetype": "text/x-python",
   "name": "python",
   "nbconvert_exporter": "python",
   "pygments_lexer": "ipython3",
   "version": "3.9.2"
  }
 },
 "nbformat": 4,
 "nbformat_minor": 5
}
